{
 "cells": [
  {
   "cell_type": "code",
   "execution_count": null,
   "metadata": {},
   "outputs": [],
   "source": [
    "# !pip install opencv-python transformers accelerate insightface\n",
    "import diffusers\n",
    "from diffusers.utils import load_image\n",
    "from diffusers.models import ControlNetModel\n",
    "\n",
    "import cv2\n",
    "import torch\n",
    "import numpy as np\n",
    "from PIL import Image\n",
    "\n",
    "from insightface.app import FaceAnalysis\n",
    "from pipeline_stable_diffusion_xl_instantid import StableDiffusionXLInstantIDPipeline, draw_kps\n",
    "\n",
    "# prepare 'antelopev2' under ./models\n",
    "app = FaceAnalysis(name='antelopev2', root='./', providers=['CUDAExecutionProvider', 'CPUExecutionProvider'])\n",
    "app.prepare(ctx_id=0, det_size=(640, 640))\n",
    "\n",
    "# prepare models under ./checkpoints\n",
    "face_adapter = f'./checkpoints/ip-adapter.bin'\n",
    "controlnet_path = f'./checkpoints/ControlNetModel'\n",
    "\n",
    "# load IdentityNet\n",
    "controlnet = ControlNetModel.from_pretrained(controlnet_path, torch_dtype=torch.float16)\n",
    "\n",
    "base_model = 'wangqixun/YamerMIX_v8'\n",
    "pipe = StableDiffusionXLInstantIDPipeline.from_pretrained(base_model, \n",
    "                                                          controlnet=controlnet, \n",
    "                                                          torch_dtype=torch.float16)\n",
    "pipe.cuda()\n",
    "\n",
    "# load adapter\n",
    "pipe.load_ip_adapter_instantid(face_adapter)"
   ]
  },
  {
   "cell_type": "code",
   "execution_count": null,
   "metadata": {},
   "outputs": [],
   "source": [
    "# load an image\n",
    "face_image = load_image(\"/home/user/InstantID/Originals/67.jpeg\")\n",
    "\n",
    "# prepare face emb\n",
    "face_info = app.get(cv2.cvtColor(np.array(face_image), cv2.COLOR_RGB2BGR))\n",
    "face_info = sorted(face_info, key=lambda x:(x['bbox'][2]-x['bbox'][0])*x['bbox'][3]-x['bbox'][1])[-1] # only use the maximum face\n",
    "face_emb = face_info['embedding']\n",
    "face_kps = draw_kps(face_image, face_info['kps'])\n",
    "\n",
    "pipe.set_ip_adapter_scale(0.8)\n",
    "\n"
   ]
  },
  {
   "cell_type": "code",
   "execution_count": null,
   "metadata": {},
   "outputs": [],
   "source": [
    "prompts = [\n",
    "    'Photo of a woman skiing in Switzerland.',\n",
    "    'Photo of a woman paragliding in Austria',\n",
    "    'Photo of a woman trekking in Luxembourg',\n",
    "    'Photo of a woman in Spain going in hot air balloon',\n",
    "    'Photo of a woman rowing in Thames London',\n",
    "    'Photo of a woman in a ship in Belgium',\n",
    "    'Photo of a woman in a mass in Italy',\n",
    "    'Photo of a woman in tulips garden at Netherlands',\n",
    "    'Photo of a woman in the statue of liberty in New York'\n",
    "    ]\n",
    "\n",
    "\n",
    "negative_prompt = \"(lowres, low quality, worst quality:1.2), (text:1.2), watermark, (frame:1.2), deformed, ugly, deformed eyes, blur, out of focus, blurry, deformed cat, deformed, photo, anthropomorphic cat, monochrome, pet collar, gun, weapon, blue, 3d, drones, drone, buildings in background, green, anime, cartoon, graphic, (blur, blurry, bokeh), text, painting, crayon, graphite, abstract, glitch, deformed, mutated, ugly, disfigured\""
   ]
  },
  {
   "cell_type": "code",
   "execution_count": null,
   "metadata": {},
   "outputs": [],
   "source": [
    "import pathlib\n",
    "import random\n",
    "num_images_per_prompt = 100\n",
    "\n",
    "for prompt in prompts:\n",
    "    path = pathlib.Path(f'/home/user/InstantID/Generated/{prompt}/67')\n",
    "    path.mkdir(parents=True, exist_ok=True)\n",
    "    random.seed(9001)\n",
    "    \n",
    "    for _ in range(num_images_per_prompt):    \n",
    "        random_int = random.randint(1, num_images_per_prompt)\n",
    "\n",
    "        image = pipe(prompt=prompt, \n",
    "                    image_embeds=face_emb, \n",
    "                    image=face_kps, \n",
    "                    controlnet_conditioning_scale=0.8,\n",
    "                    negative_prompt=negative_prompt,\n",
    "                    random_seed=random_int,\n",
    "                    ).images[0]\n",
    "        \n",
    "\n",
    "        image.save(f'{path}/{random_int}.jpeg')\n",
    "                                                                "
   ]
  }
 ],
 "metadata": {
  "kernelspec": {
   "display_name": "tensorml",
   "language": "python",
   "name": "python3"
  },
  "language_info": {
   "codemirror_mode": {
    "name": "ipython",
    "version": 3
   },
   "file_extension": ".py",
   "mimetype": "text/x-python",
   "name": "python",
   "nbconvert_exporter": "python",
   "pygments_lexer": "ipython3",
   "version": "3.11.6"
  }
 },
 "nbformat": 4,
 "nbformat_minor": 2
}
